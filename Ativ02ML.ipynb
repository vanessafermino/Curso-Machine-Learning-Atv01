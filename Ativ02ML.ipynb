{
  "nbformat": 4,
  "nbformat_minor": 0,
  "metadata": {
    "colab": {
      "provenance": [],
      "authorship_tag": "ABX9TyOQTCc/4HFQVe2JtcXGw6eo",
      "include_colab_link": true
    },
    "kernelspec": {
      "name": "python3",
      "display_name": "Python 3"
    },
    "language_info": {
      "name": "python"
    }
  },
  "cells": [
    {
      "cell_type": "markdown",
      "metadata": {
        "id": "view-in-github",
        "colab_type": "text"
      },
      "source": [
        "<a href=\"https://colab.research.google.com/github/vanessafermino/Curso-Machine-Learning-Atv01/blob/main/Ativ02ML.ipynb\" target=\"_parent\"><img src=\"https://colab.research.google.com/assets/colab-badge.svg\" alt=\"Open In Colab\"/></a>"
      ]
    },
    {
      "cell_type": "markdown",
      "source": [
        "Escreva uma função que receba uma lista de números e retorne outra lista com os números impares."
      ],
      "metadata": {
        "id": "fx6IG_fjUIcm"
      }
    },
    {
      "cell_type": "code",
      "source": [
        "def obter_numeros_impares(lista_de_numeros):\n",
        "  numeros_impares = []\n",
        "  for numero in lista_de_numeros:\n",
        "    if isinstance(numero, int) and numero % 2 != 0:\n",
        "      numeros_impares.append(numero)\n",
        "  return numeros_impares\n",
        "minha_lista = [1, 2, 3, 4, 5, 6, 7, 8, 9, 10]\n",
        "impares = obter_numeros_impares(minha_lista)\n",
        "print(f\"Números ímpares da lista {minha_lista}: {impares}\")"
      ],
      "metadata": {
        "colab": {
          "base_uri": "https://localhost:8080/"
        },
        "id": "oWrRCSV8VeyD",
        "outputId": "72d007c1-6874-48ed-9aff-b2dbeb9ddcc5"
      },
      "execution_count": 7,
      "outputs": [
        {
          "output_type": "stream",
          "name": "stdout",
          "text": [
            "Números ímpares da lista [1, 2, 3, 4, 5, 6, 7, 8, 9, 10]: [1, 3, 5, 7, 9]\n"
          ]
        }
      ]
    },
    {
      "cell_type": "markdown",
      "source": [
        "Escreva uma função que receba uma lista de números e retorne outra lista com os números primos presentes."
      ],
      "metadata": {
        "id": "0cUrRUqVWuIY"
      }
    },
    {
      "cell_type": "markdown",
      "source": [],
      "metadata": {
        "id": "F5G0vFKRUHe-"
      }
    },
    {
      "cell_type": "code",
      "source": [
        "def eh_primo(num):\n",
        "    \"\"\"\n",
        "    Verifica se um número é primo.\n",
        "    Um número primo é um número natural maior que 1 que não pode ser formado pela multiplicação de dois números naturais menores.\n",
        "    \"\"\"\n",
        "    if num <= 1:\n",
        "        return False  # Números menores ou iguais a 1 não são primos\n",
        "    if num <= 3:\n",
        "        return True   # 2 e 3 são primos\n",
        "    if num % 2 == 0 or num % 3 == 0:\n",
        "        return False  # Múltiplos de 2 ou 3 não são primos (exceto o próprio 2 e 3, já tratados)\n",
        "    i = 5\n",
        "    while i * i <= num:\n",
        "        if num % i == 0 or num % (i + 2) == 0:\n",
        "            return False\n",
        "        i += 6\n",
        "    return True\n",
        "\n",
        "def obter_primos_de_lista(lista_de_numeros):\n",
        "    \"\"\"\n",
        "    Recebe uma lista de números e retorna uma nova lista contendo apenas os números primos.\n",
        "    \"\"\"\n",
        "    primos_encontrados = []\n",
        "    for numero in lista_de_numeros:\n",
        "        if eh_primo(numero):\n",
        "            primos_encontrados.append(numero)\n",
        "    return primos_encontrados\n",
        "\n",
        "# Exemplo de uso:\n",
        "minha_lista = [1, 2, 3, 4, 5, 6, 7, 8, 9, 10, 11, 13, 17, 20, 23, 29]\n",
        "primos_na_lista = obter_primos_de_lista(minha_lista)\n",
        "print(f\"A lista original é: {minha_lista}\")\n",
        "print(f\"Os números primos na lista são: {primos_na_lista}\")\n"
      ],
      "metadata": {
        "colab": {
          "base_uri": "https://localhost:8080/"
        },
        "id": "MiVT_ni7XIBz",
        "outputId": "dd54bb63-7b2d-48f6-a0b7-b176ae60dcd3"
      },
      "execution_count": 23,
      "outputs": [
        {
          "output_type": "stream",
          "name": "stdout",
          "text": [
            "A lista original é: [1, 2, 3, 4, 5, 6, 7, 8, 9, 10, 11, 13, 17, 20, 23, 29]\n",
            "Os números primos na lista são: [2, 3, 5, 7, 11, 13, 17, 23, 29]\n"
          ]
        }
      ]
    },
    {
      "cell_type": "markdown",
      "source": [
        "Escreva uma função que receba duas listas e retorne outra lista com os elementos que estão presentes em apenas uma das listas."
      ],
      "metadata": {
        "id": "I61GuUMRaZhR"
      }
    },
    {
      "cell_type": "code",
      "source": [
        "def elementos_exclusivos(lista1, lista2):\n",
        "    \"\"\"\n",
        "    Recebe duas listas e retorna uma nova lista com os elementos\n",
        "    que estão presentes em apenas uma das listas (diferença simétrica).\n",
        "    \"\"\"\n",
        "    # Convertendo as listas para conjuntos para operações mais eficientes\n",
        "    set1 = set(lista1)\n",
        "    set2 = set(lista2)\n",
        "\n",
        "    # Encontra elementos em lista1 que não estão em lista2\n",
        "    exclusivos_lista1 = set1 - set2\n",
        "\n",
        "    # Encontra elementos em lista2 que não estão em lista1\n",
        "    exclusivos_lista2 = set2 - set1\n",
        "\n",
        "    # Combina os elementos exclusivos de ambas as listas\n",
        "    # e converte de volta para uma lista\n",
        "    resultado = list(exclusivos_lista1.union(exclusivos_lista2))\n",
        "\n",
        "    return resultado\n",
        "\n",
        "# --- Exemplos de uso ---\n",
        "\n",
        "# Exemplo 1: Listas com alguns elementos em comum\n",
        "lista_a = [1, 2, 3, 4, 5]\n",
        "lista_b = [4, 5, 6, 7, 8]\n",
        "diferenca_simetrica1 = elementos_exclusivos(lista_a, lista_b)\n",
        "print(f\"Lista A: {lista_a}\")\n",
        "print(f\"Lista B: {lista_b}\")\n",
        "print(f\"Elementos exclusivos: {diferenca_simetrica1}\") # Saída esperada: [1, 2, 3, 6, 7, 8] (ordem pode variar)\n",
        "\n",
        "print(\"\\n\" + \"=\"*30 + \"\\n\") # Separador para clareza"
      ],
      "metadata": {
        "colab": {
          "base_uri": "https://localhost:8080/"
        },
        "id": "339LTGlraj1d",
        "outputId": "5977ef71-8802-4101-efed-d5fca0781245"
      },
      "execution_count": 25,
      "outputs": [
        {
          "output_type": "stream",
          "name": "stdout",
          "text": [
            "Lista A: [1, 2, 3, 4, 5]\n",
            "Lista B: [4, 5, 6, 7, 8]\n",
            "Elementos exclusivos: [1, 2, 3, 6, 7, 8]\n",
            "\n",
            "==============================\n",
            "\n"
          ]
        }
      ]
    },
    {
      "cell_type": "markdown",
      "source": [
        "Dada uma lista de números inteiros, escreva uma função para encontrar o segundo maior valor na lista."
      ],
      "metadata": {
        "id": "QnErq6k4cbg2"
      }
    },
    {
      "cell_type": "code",
      "source": [
        "def encontrar_segundo_maior(lista_numeros):\n",
        "    if not lista_numeros:\n",
        "        return None  # Lista vazia, não há segundo maior\n",
        "\n",
        "    # Usar um conjunto para remover duplicatas e ordenar os elementos únicos\n",
        "    # Isso garante que se tivermos [5, 5, 5], o \"segundo maior\" não será o próprio 5\n",
        "    # e que a ordenação seja de elementos únicos.\n",
        "    elementos_unicos = sorted(list(set(lista_numeros)))\n",
        "\n",
        "    if len(elementos_unicos) < 2:\n",
        "        return None  # Não há segundo elemento distinto (ex: [5] ou [5, 5])\n",
        "    else:\n",
        "        # O segundo maior elemento será o penúltimo na lista ordenada\n",
        "        return elementos_unicos[-2]\n",
        "print(\"--- Cenários de Teste ---\")\n",
        "lista1 = [10, 5, 20, 15, 25, 30]\n",
        "print(f\"Lista: {lista1} -> Segundo maior: {encontrar_segundo_maior(lista1)}\")"
      ],
      "metadata": {
        "colab": {
          "base_uri": "https://localhost:8080/"
        },
        "id": "bk5Ytu0zcfDi",
        "outputId": "e1eb0cb3-ed32-4c09-a80b-f7ed0299b267"
      },
      "execution_count": 28,
      "outputs": [
        {
          "output_type": "stream",
          "name": "stdout",
          "text": [
            "--- Cenários de Teste ---\n",
            "Lista: [10, 5, 20, 15, 25, 30] -> Segundo maior: 25\n"
          ]
        }
      ]
    },
    {
      "cell_type": "markdown",
      "source": [
        "Crie uma função que receba uma lista de tuplas, cada uma contendo o nome e a idade de uma pessoa, e retorne a lista ordenada pelo nome das pessoas em ordem alfabética."
      ],
      "metadata": {
        "id": "Ayl3a66ac-_U"
      }
    },
    {
      "cell_type": "code",
      "source": [
        "def ordenar_pessoas_por_nome(lista_pessoas):\n",
        "    \"\"\"\n",
        "    Recebe uma lista de tuplas (nome, idade) e retorna uma nova lista\n",
        "    ordenada pelo nome das pessoas em ordem alfabética.\n",
        "\n",
        "    Args:\n",
        "        lista_pessoas: Uma lista de tuplas, onde cada tupla contém\n",
        "                       (nome_string, idade_inteiro).\n",
        "\n",
        "    Returns:\n",
        "        Uma nova lista de tuplas, ordenada pelo nome em ordem alfabética.\n",
        "    \"\"\"\n",
        "    # A função sorted() recebe um iterável e um argumento 'key'.\n",
        "    # O argumento 'key' é uma função que será chamada em cada elemento da lista\n",
        "    # para obter o valor que será usado para a ordenação.\n",
        "    # Neste caso, usamos uma função lambda que retorna o primeiro elemento da tupla (o nome).\n",
        "    lista_ordenada = sorted(lista_pessoas, key=lambda pessoa: pessoa[0])\n",
        "    return lista_ordenada\n",
        "pessoas1 = [\n",
        "    (\"Carlos\", 30),\n",
        "    (\"Ana\", 25),\n",
        "    (\"Beatriz\", 35),\n",
        "    (\"Daniel\", 28)\n",
        "]\n",
        "print(f\"Lista original 1: {pessoas1}\")\n",
        "pessoas_ordenadas1 = ordenar_pessoas_por_nome(pessoas1)\n",
        "print(f\"Lista ordenada 1: {pessoas_ordenadas1}\")\n",
        "print(\"\\n\" + \"=\"*30 + \"\\n\") # Separador para clareza"
      ],
      "metadata": {
        "colab": {
          "base_uri": "https://localhost:8080/"
        },
        "id": "g3TfBJiOc-b6",
        "outputId": "b9e23e14-de61-4244-cd3c-57d8998e131d"
      },
      "execution_count": 31,
      "outputs": [
        {
          "output_type": "stream",
          "name": "stdout",
          "text": [
            "Lista original 1: [('Carlos', 30), ('Ana', 25), ('Beatriz', 35), ('Daniel', 28)]\n",
            "Lista ordenada 1: [('Ana', 25), ('Beatriz', 35), ('Carlos', 30), ('Daniel', 28)]\n",
            "\n",
            "==============================\n",
            "\n"
          ]
        }
      ]
    },
    {
      "cell_type": "markdown",
      "source": [
        "Como identificar e tratar outliers em uma coluna numérica usando desvio padrão ou quartis?"
      ],
      "metadata": {
        "id": "Wt4WfjMkdhDw"
      }
    },
    {
      "cell_type": "code",
      "source": [
        "import pandas as pd\n",
        "import numpy as np\n",
        "\n",
        "def identificar_outliers_desvio_padrao(df, coluna, limite_std=3):\n",
        "    \"\"\"\n",
        "    Identifica outliers em uma coluna numérica de um DataFrame\n",
        "    usando o método do desvio padrão.\n",
        "\n",
        "    Args:\n",
        "        df (pd.DataFrame): O DataFrame a ser analisado.\n",
        "        coluna (str): O nome da coluna numérica onde os outliers serão procurados.\n",
        "        limite_std (int/float): O número de desvios padrão a partir da média\n",
        "                                para considerar um valor como outlier.\n",
        "\n",
        "    Returns:\n",
        "        pd.DataFrame: Um DataFrame contendo as linhas que foram identificadas como outliers.\n",
        "        pd.Series: Uma série booleana (True/False) indicando se cada linha é um outlier.\n",
        "    \"\"\"\n",
        "    media = df[coluna].mean()\n",
        "    desvio_padrao = df[coluna].std()\n",
        "\n",
        "    # Calculando os limites superior e inferior\n",
        "    limite_superior = media + limite_std * desvio_padrao\n",
        "    limite_inferior = media - limite_std * desvio_padrao\n",
        "\n",
        "    # Identificando os outliers\n",
        "    outliers = df[(df[coluna] < limite_inferior) | (df[coluna] > limite_superior)]\n",
        "    is_outlier_serie = (df[coluna] < limite_inferior) | (df[coluna] > limite_superior)\n",
        "\n",
        "    print(f\"--- Detecção de Outliers por Desvio Padrão ({limite_std} STD) ---\")\n",
        "    print(f\"Coluna analisada: '{coluna}'\")\n",
        "    print(f\"Média: {media:.2f}\")\n",
        "    print(f\"Desvio Padrão: {desvio_padrao:.2f}\")\n",
        "    print(f\"Limite Superior (Outlier): {limite_superior:.2f}\")\n",
        "    print(f\"Limite Inferior (Outlier): {limite_inferior:.2f}\")\n",
        "    print(f\"Total de Outliers encontrados: {len(outliers)}\")\n",
        "    if not outliers.empty:\n",
        "        print(f\"\\nOutliers identificados:\\n{outliers}\")\n",
        "    else:\n",
        "        print(\"\\nNenhum outlier encontrado com os critérios atuais.\")\n",
        "\n",
        "    return outliers, is_outlier_serie\n",
        "\n",
        "# Exemplo de uso:\n",
        "data = {'ID': range(1, 13),\n",
        "        'Valor_Venda': [100, 120, 110, 130, 950, 140, 150, 125, 105, 5, 115, 135]}\n",
        "df_vendas = pd.DataFrame(data)\n",
        "\n",
        "outliers_encontrados, is_outlier = identificar_outliers_desvio_padrao(df_vendas.copy(), 'Valor_Venda', limite_std=2)\n",
        "# Você pode usar 'is_outlier' para filtrar o DataFrame original se necessário:\n",
        "# df_sem_outliers = df_vendas[~is_outlier].copy()"
      ],
      "metadata": {
        "colab": {
          "base_uri": "https://localhost:8080/"
        },
        "id": "mGYlCjE8dEQ1",
        "outputId": "ded1cb8d-22e0-4535-d7bc-f8333d67efe9"
      },
      "execution_count": 32,
      "outputs": [
        {
          "output_type": "stream",
          "name": "stdout",
          "text": [
            "--- Detecção de Outliers por Desvio Padrão (2 STD) ---\n",
            "Coluna analisada: 'Valor_Venda'\n",
            "Média: 182.08\n",
            "Desvio Padrão: 244.63\n",
            "Limite Superior (Outlier): 671.34\n",
            "Limite Inferior (Outlier): -307.17\n",
            "Total de Outliers encontrados: 1\n",
            "\n",
            "Outliers identificados:\n",
            "   ID  Valor_Venda\n",
            "4   5          950\n"
          ]
        }
      ]
    },
    {
      "cell_type": "markdown",
      "source": [
        "Como concatenar vários DataFrames (empilhando linhas ou colunas), mesmo que tenham colunas diferentes? Dica: Utiliza-se pd.concat() especificando axis=0 (linhas) ou axis=1 (colunas). Quando há colunas diferentes, os valores ausentes são preenchidos com NaN."
      ],
      "metadata": {
        "id": "9N3rjdeHeG7a"
      }
    },
    {
      "cell_type": "code",
      "source": [
        "import pandas as pd\n",
        "import numpy as np # Para NaN, embora pd.concat já faça isso automaticamente\n",
        "\n",
        "print(\"--- Concatenando por Linhas (axis=0) ---\")\n",
        "\n",
        "# DataFrame 1: Vendas de Janeiro\n",
        "df1 = pd.DataFrame({\n",
        "    'Produto': ['A', 'B', 'C'],\n",
        "    'Vendas_Jan': [100, 150, 200],\n",
        "    'Regiao': ['Norte', 'Sul', 'Leste']\n",
        "})\n",
        "print(\"DataFrame 1 (df1 - Vendas Jan):\\n\", df1)\n",
        "\n",
        "print(\"\\n\" + \"-\"*30 + \"\\n\")\n",
        "\n",
        "# DataFrame 2: Vendas de Fevereiro (com uma coluna diferente e uma faltando)\n",
        "df2 = pd.DataFrame({\n",
        "    'Produto': ['B', 'C', 'D'],\n",
        "    'Vendas_Fev': [180, 220, 90],\n",
        "    'Metodo_Pagamento': ['Cartão', 'Pix', 'Dinheiro']\n",
        "})\n",
        "print(\"DataFrame 2 (df2 - Vendas Fev):\\n\", df2)\n",
        "\n",
        "print(\"\\n\" + \"-\"*30 + \"\\n\")\n",
        "\n",
        "# Concatenando df1 e df2 por linhas (axis=0)\n",
        "# 'join='outer'' é o padrão, então não precisamos especificá-lo explicitamente\n",
        "df_concatenado_linhas = pd.concat([df1, df2], axis=0)\n",
        "\n",
        "print(\"DataFrame concatenado por linhas (df_concatenado_linhas):\\n\", df_concatenado_linhas)\n",
        "\n",
        "# Observe que 'Vendas_Jan', 'Regiao', 'Vendas_Fev' e 'Metodo_Pagamento'\n",
        "# aparecem como colunas. Onde os dados não existem na DataFrame original,\n",
        "# os valores são preenchidos com NaN."
      ],
      "metadata": {
        "colab": {
          "base_uri": "https://localhost:8080/"
        },
        "id": "kvSlMgAqeM07",
        "outputId": "20357155-59ef-4fb4-c24e-f70cb6caed30"
      },
      "execution_count": 33,
      "outputs": [
        {
          "output_type": "stream",
          "name": "stdout",
          "text": [
            "--- Concatenando por Linhas (axis=0) ---\n",
            "DataFrame 1 (df1 - Vendas Jan):\n",
            "   Produto  Vendas_Jan Regiao\n",
            "0       A         100  Norte\n",
            "1       B         150    Sul\n",
            "2       C         200  Leste\n",
            "\n",
            "------------------------------\n",
            "\n",
            "DataFrame 2 (df2 - Vendas Fev):\n",
            "   Produto  Vendas_Fev Metodo_Pagamento\n",
            "0       B         180           Cartão\n",
            "1       C         220              Pix\n",
            "2       D          90         Dinheiro\n",
            "\n",
            "------------------------------\n",
            "\n",
            "DataFrame concatenado por linhas (df_concatenado_linhas):\n",
            "   Produto  Vendas_Jan Regiao  Vendas_Fev Metodo_Pagamento\n",
            "0       A       100.0  Norte         NaN              NaN\n",
            "1       B       150.0    Sul         NaN              NaN\n",
            "2       C       200.0  Leste         NaN              NaN\n",
            "0       B         NaN    NaN       180.0           Cartão\n",
            "1       C         NaN    NaN       220.0              Pix\n",
            "2       D         NaN    NaN        90.0         Dinheiro\n"
          ]
        }
      ]
    },
    {
      "cell_type": "markdown",
      "source": [
        "Utilizando pandas, como realizar a leitura de um arquivo CSV em um DataFrame e exibir as primeiras linhas?  "
      ],
      "metadata": {
        "id": "7WTKQ6syedec"
      }
    },
    {
      "cell_type": "code",
      "source": [
        "import pandas as pd\n",
        "import os # Importar para verificar o caminho, se necessário\n",
        "\n",
        "# --- Parte principal: Leitura e exibição ---\n",
        "\n",
        "# 1. Definir o nome (ou caminho completo) do arquivo CSV\n",
        "# Certifique-se de que o arquivo esteja no mesmo diretório do seu script\n",
        "# ou forneça o caminho completo (ex: 'C:/Users/SeuUsuario/Documentos/dados.csv')\n",
        "caminho_do_arquivo = 'dados_exemplo.csv'\n",
        "\n",
        "# 2. Ler o arquivo CSV para um DataFrame\n",
        "# pd.read_csv() é a função principal para isso.\n",
        "try:\n",
        "    df = pd.read_csv(caminho_do_arquivo)\n",
        "    print(f\"\\nArquivo '{caminho_do_arquivo}' lido com sucesso em um DataFrame.\")\n",
        "\n",
        "    # 3. Exibir as primeiras linhas do DataFrame\n",
        "    # O método .head() por padrão exibe as 5 primeiras linhas.\n",
        "    # Você pode especificar um número diferente, por exemplo, df.head(10) para as 10 primeiras.\n",
        "    print(\"\\nAs 5 primeiras linhas do DataFrame:\")\n",
        "    print(df.head())\n",
        "\n",
        "    # Exemplo: Exibir as 3 primeiras linhas\n",
        "    print(\"\\nAs 3 primeiras linhas do DataFrame:\")\n",
        "    print(df.head(3))\n",
        "\n",
        "except FileNotFoundError:\n",
        "    print(f\"Erro: O arquivo '{caminho_do_arquivo}' não foi encontrado.\")\n",
        "    print(f\"Verifique se o arquivo está no diretório correto: {os.getcwd()}\")\n",
        "except Exception as e:\n",
        "    print(f\"Ocorreu um erro ao ler o arquivo CSV: {e}\")"
      ],
      "metadata": {
        "colab": {
          "base_uri": "https://localhost:8080/"
        },
        "id": "W428Z_lBehCU",
        "outputId": "5e30ea1c-3cce-40e1-b656-70d08b4d3ef2"
      },
      "execution_count": 35,
      "outputs": [
        {
          "output_type": "stream",
          "name": "stdout",
          "text": [
            "\n",
            "Arquivo 'dados_exemplo.csv' lido com sucesso em um DataFrame.\n",
            "\n",
            "As 5 primeiras linhas do DataFrame:\n",
            "     Nome  Idade          Cidade      Profissao\n",
            "0   Alice     30       São Paulo     Engenheira\n",
            "1     Bob     24  Rio de Janeiro       Designer\n",
            "2  Carlos     35  Belo Horizonte  Desenvolvedor\n",
            "3   Diana     28    Porto Alegre         Médica\n",
            "4     Eva     42        Curitiba      Arquiteta\n",
            "\n",
            "As 3 primeiras linhas do DataFrame:\n",
            "     Nome  Idade          Cidade      Profissao\n",
            "0   Alice     30       São Paulo     Engenheira\n",
            "1     Bob     24  Rio de Janeiro       Designer\n",
            "2  Carlos     35  Belo Horizonte  Desenvolvedor\n"
          ]
        }
      ]
    },
    {
      "cell_type": "markdown",
      "source": [
        "Utilizando pandas, como selecionar uma coluna específica e filtrar linhas em um “DataFrame” com base em uma condição?"
      ],
      "metadata": {
        "id": "9UImMlZ8fIzC"
      }
    },
    {
      "cell_type": "code",
      "source": [
        "import pandas as pd\n",
        "\n",
        "# Criando um DataFrame de exemplo\n",
        "data = {\n",
        "    'Nome': ['Alice', 'Bob', 'Carlos', 'Diana', 'Eva', 'Felipe', 'Gabriela'],\n",
        "    'Idade': [25, 30, 35, 28, 42, 29, 31],\n",
        "    'Cidade': ['São Paulo', 'Rio de Janeiro', 'São Paulo', 'Belo Horizonte', 'Curitiba', 'Rio de Janeiro', 'São Paulo'],\n",
        "    'Salario': [50000, 60000, 75000, 55000, 90000, 62000, 70000],\n",
        "    'Ativo': [True, False, True, True, False, True, True]\n",
        "}\n",
        "df = pd.DataFrame(data)\n",
        "\n",
        "print(\"DataFrame Original:\")\n",
        "print(df)\n",
        "print(\"\\n\" + \"=\"*50 + \"\\n\")\n",
        "print(\"--- Selecionando uma Coluna Específica (Notação de Colchetes) ---\")\n",
        "\n",
        "# Selecionar a coluna 'Nome'\n",
        "coluna_nome = df['Nome']\n",
        "print(\"Coluna 'Nome':\")\n",
        "print(coluna_nome)\n",
        "print(f\"Tipo do objeto retornado: {type(coluna_nome)}\") # Retorna uma Series\n",
        "\n",
        "print(\"\\n\" + \"-\"*30 + \"\\n\")\n",
        "\n",
        "# Selecionar a coluna 'Idade'\n",
        "coluna_idade = df['Idade']\n",
        "print(\"Coluna 'Idade':\")\n",
        "print(coluna_idade)"
      ],
      "metadata": {
        "colab": {
          "base_uri": "https://localhost:8080/"
        },
        "id": "b1iNocwbfLEe",
        "outputId": "67dbaf1e-c55d-46b8-abde-a01dec3e1fa4"
      },
      "execution_count": 37,
      "outputs": [
        {
          "output_type": "stream",
          "name": "stdout",
          "text": [
            "DataFrame Original:\n",
            "       Nome  Idade          Cidade  Salario  Ativo\n",
            "0     Alice     25       São Paulo    50000   True\n",
            "1       Bob     30  Rio de Janeiro    60000  False\n",
            "2    Carlos     35       São Paulo    75000   True\n",
            "3     Diana     28  Belo Horizonte    55000   True\n",
            "4       Eva     42        Curitiba    90000  False\n",
            "5    Felipe     29  Rio de Janeiro    62000   True\n",
            "6  Gabriela     31       São Paulo    70000   True\n",
            "\n",
            "==================================================\n",
            "\n",
            "--- Selecionando uma Coluna Específica (Notação de Colchetes) ---\n",
            "Coluna 'Nome':\n",
            "0       Alice\n",
            "1         Bob\n",
            "2      Carlos\n",
            "3       Diana\n",
            "4         Eva\n",
            "5      Felipe\n",
            "6    Gabriela\n",
            "Name: Nome, dtype: object\n",
            "Tipo do objeto retornado: <class 'pandas.core.series.Series'>\n",
            "\n",
            "------------------------------\n",
            "\n",
            "Coluna 'Idade':\n",
            "0    25\n",
            "1    30\n",
            "2    35\n",
            "3    28\n",
            "4    42\n",
            "5    29\n",
            "6    31\n",
            "Name: Idade, dtype: int64\n"
          ]
        }
      ]
    },
    {
      "cell_type": "markdown",
      "source": [
        " Utilizando pandas, como lidar com valores ausentes (NaN) em um DataFrame?"
      ],
      "metadata": {
        "id": "9GVkCL9Zfn3u"
      }
    },
    {
      "cell_type": "code",
      "source": [
        "import pandas as pd\n",
        "import numpy as np # Usaremos numpy para criar valores NaN explicitamente\n",
        "\n",
        "# Criando um DataFrame de exemplo com NaN\n",
        "data = {\n",
        "    'Nome': ['Alice', 'Bob', 'Carlos', 'Diana', 'Eva', 'Felipe', 'Gabriela', 'Hugo'],\n",
        "    'Idade': [25, 30, np.nan, 28, 42, 29, 31, np.nan],\n",
        "    'Cidade': ['São Paulo', 'Rio de Janeiro', 'São Paulo', 'Belo Horizonte', np.nan, 'Rio de Janeiro', 'São Paulo', 'Recife'],\n",
        "    'Salario': [50000, np.nan, 75000, 55000, 90000, 62000, 70000, 80000],\n",
        "    'Ativo': [True, False, True, True, np.nan, True, True, False]\n",
        "}\n",
        "df = pd.DataFrame(data)\n",
        "\n",
        "print(\"DataFrame Original (com NaN):\")\n",
        "print(df)\n",
        "print(\"\\n\" + \"=\"*50 + \"\\n\")\n",
        "print(\"--- Identificando Valores Ausentes ---\")\n",
        "\n",
        "print(\"DataFrame com valores ausentes (True para NaN, False para não-NaN):\")\n",
        "print(df.isnull()) # Ou df.isna()\n",
        "\n",
        "print(\"\\n\" + \"-\"*30 + \"\\n\")\n",
        "\n",
        "# Contar o número de valores ausentes por coluna\n",
        "print(\"Contagem de valores ausentes por coluna:\")\n",
        "print(df.isnull().sum())\n",
        "\n",
        "print(\"\\n\" + \"-\"*30 + \"\\n\")\n",
        "\n",
        "# Contar o total de valores ausentes no DataFrame\n",
        "total_nan = df.isnull().sum().sum()\n",
        "print(f\"Total de valores ausentes no DataFrame: {total_nan}\")\n",
        "\n",
        "print(\"\\n\" + \"-\"*30 + \"\\n\")\n",
        "\n",
        "# Verificar se há algum NaN no DataFrame\n",
        "if df.isnull().any().any():\n",
        "    print(\"O DataFrame contém pelo menos um valor ausente.\")\n",
        "else:\n",
        "    print(\"O DataFrame não contém valores ausentes.\")"
      ],
      "metadata": {
        "colab": {
          "base_uri": "https://localhost:8080/"
        },
        "id": "v2l_YIh-fs9w",
        "outputId": "d4cb9710-b3b0-4731-db9d-e8dc326333be"
      },
      "execution_count": 39,
      "outputs": [
        {
          "output_type": "stream",
          "name": "stdout",
          "text": [
            "DataFrame Original (com NaN):\n",
            "       Nome  Idade          Cidade  Salario  Ativo\n",
            "0     Alice   25.0       São Paulo  50000.0   True\n",
            "1       Bob   30.0  Rio de Janeiro      NaN  False\n",
            "2    Carlos    NaN       São Paulo  75000.0   True\n",
            "3     Diana   28.0  Belo Horizonte  55000.0   True\n",
            "4       Eva   42.0             NaN  90000.0    NaN\n",
            "5    Felipe   29.0  Rio de Janeiro  62000.0   True\n",
            "6  Gabriela   31.0       São Paulo  70000.0   True\n",
            "7      Hugo    NaN          Recife  80000.0  False\n",
            "\n",
            "==================================================\n",
            "\n",
            "--- Identificando Valores Ausentes ---\n",
            "DataFrame com valores ausentes (True para NaN, False para não-NaN):\n",
            "    Nome  Idade  Cidade  Salario  Ativo\n",
            "0  False  False   False    False  False\n",
            "1  False  False   False     True  False\n",
            "2  False   True   False    False  False\n",
            "3  False  False   False    False  False\n",
            "4  False  False    True    False   True\n",
            "5  False  False   False    False  False\n",
            "6  False  False   False    False  False\n",
            "7  False   True   False    False  False\n",
            "\n",
            "------------------------------\n",
            "\n",
            "Contagem de valores ausentes por coluna:\n",
            "Nome       0\n",
            "Idade      2\n",
            "Cidade     1\n",
            "Salario    1\n",
            "Ativo      1\n",
            "dtype: int64\n",
            "\n",
            "------------------------------\n",
            "\n",
            "Total de valores ausentes no DataFrame: 5\n",
            "\n",
            "------------------------------\n",
            "\n",
            "O DataFrame contém pelo menos um valor ausente.\n"
          ]
        }
      ]
    }
  ]
}